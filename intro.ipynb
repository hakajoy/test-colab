{
  "nbformat": 4,
  "nbformat_minor": 0,
  "metadata": {
    "colab": {
      "provenance": [],
      "authorship_tag": "ABX9TyPque2gcvwO0C3UxpeBHLQ0",
      "include_colab_link": true
    },
    "kernelspec": {
      "name": "python3",
      "display_name": "Python 3"
    },
    "language_info": {
      "name": "python"
    }
  },
  "cells": [
    {
      "cell_type": "markdown",
      "metadata": {
        "id": "view-in-github",
        "colab_type": "text"
      },
      "source": [
        "<a href=\"https://colab.research.google.com/github/hakajoy/test-colab/blob/main/intro.ipynb\" target=\"_parent\"><img src=\"https://colab.research.google.com/assets/colab-badge.svg\" alt=\"Open In Colab\"/></a>"
      ]
    },
    {
      "cell_type": "markdown",
      "source": [
        "###Sales"
      ],
      "metadata": {
        "id": "5hyTAsvu7DsZ"
      }
    },
    {
      "cell_type": "code",
      "execution_count": 2,
      "metadata": {
        "colab": {
          "base_uri": "https://localhost:8080/"
        },
        "id": "N5wEXd596ftd",
        "outputId": "3501496a-7077-4d0c-dbb4-189cc6fc5f4f"
      },
      "outputs": [
        {
          "output_type": "execute_result",
          "data": {
            "text/plain": [
              "2000.0"
            ]
          },
          "metadata": {},
          "execution_count": 2
        }
      ],
      "source": [
        "revenue=10000\n",
        "tax=0.2\n",
        "income=revenue * tax\n",
        "income"
      ]
    },
    {
      "cell_type": "code",
      "source": [
        "print(income)"
      ],
      "metadata": {
        "colab": {
          "base_uri": "https://localhost:8080/"
        },
        "id": "ztnPG3S663e5",
        "outputId": "60f7d66b-1283-46fa-b439-244a67b7cf20"
      },
      "execution_count": 3,
      "outputs": [
        {
          "output_type": "stream",
          "name": "stdout",
          "text": [
            "2000.0\n"
          ]
        }
      ]
    },
    {
      "cell_type": "markdown",
      "source": [
        "### Summary"
      ],
      "metadata": {
        "id": "yEYDNGnT7RzH"
      }
    },
    {
      "cell_type": "code",
      "source": [
        "import numpy as np"
      ],
      "metadata": {
        "id": "IDtD4nt97cz7"
      },
      "execution_count": 4,
      "outputs": []
    },
    {
      "cell_type": "code",
      "source": [
        "np.__version__"
      ],
      "metadata": {
        "colab": {
          "base_uri": "https://localhost:8080/",
          "height": 35
        },
        "id": "l21KuzkS7kLf",
        "outputId": "e0085824-f1f9-4386-c894-42a56398db02"
      },
      "execution_count": 5,
      "outputs": [
        {
          "output_type": "execute_result",
          "data": {
            "text/plain": [
              "'1.21.6'"
            ],
            "application/vnd.google.colaboratory.intrinsic+json": {
              "type": "string"
            }
          },
          "metadata": {},
          "execution_count": 5
        }
      ]
    },
    {
      "cell_type": "code",
      "source": [
        "np.random.rand?"
      ],
      "metadata": {
        "id": "3SXY8LJh7ogE"
      },
      "execution_count": 6,
      "outputs": []
    },
    {
      "cell_type": "code",
      "source": [
        "import imageai"
      ],
      "metadata": {
        "colab": {
          "base_uri": "https://localhost:8080/",
          "height": 306
        },
        "id": "M8hyq1Yw34qA",
        "outputId": "36ca3346-8a76-4add-cb8d-95b4d6fbd135"
      },
      "execution_count": 1,
      "outputs": [
        {
          "output_type": "error",
          "ename": "ModuleNotFoundError",
          "evalue": "ignored",
          "traceback": [
            "\u001b[0;31m---------------------------------------------------------------------------\u001b[0m",
            "\u001b[0;31mModuleNotFoundError\u001b[0m                       Traceback (most recent call last)",
            "\u001b[0;32m<ipython-input-1-2cf5b4bddf56>\u001b[0m in \u001b[0;36m<module>\u001b[0;34m\u001b[0m\n\u001b[0;32m----> 1\u001b[0;31m \u001b[0;32mimport\u001b[0m \u001b[0mimageai\u001b[0m\u001b[0;34m\u001b[0m\u001b[0;34m\u001b[0m\u001b[0m\n\u001b[0m",
            "\u001b[0;31mModuleNotFoundError\u001b[0m: No module named 'imageai'",
            "",
            "\u001b[0;31m---------------------------------------------------------------------------\u001b[0;32m\nNOTE: If your import is failing due to a missing package, you can\nmanually install dependencies using either !pip or !apt.\n\nTo view examples of installing some common dependencies, click the\n\"Open Examples\" button below.\n\u001b[0;31m---------------------------------------------------------------------------\u001b[0m\n"
          ],
          "errorDetails": {
            "actions": [
              {
                "action": "open_url",
                "actionText": "Open Examples",
                "url": "/notebooks/snippets/importing_libraries.ipynb"
              }
            ]
          }
        }
      ]
    },
    {
      "cell_type": "code",
      "source": [
        "!pip install imageai"
      ],
      "metadata": {
        "colab": {
          "base_uri": "https://localhost:8080/",
          "height": 1000
        },
        "id": "XMZn2r_g37wc",
        "outputId": "6fd75940-bbf9-4127-f168-e403a6f2f18a"
      },
      "execution_count": 2,
      "outputs": [
        {
          "output_type": "stream",
          "name": "stdout",
          "text": [
            "Looking in indexes: https://pypi.org/simple, https://us-python.pkg.dev/colab-wheels/public/simple/\n",
            "Collecting imageai\n",
            "  Downloading imageai-2.1.6-py3-none-any.whl (160 kB)\n",
            "\u001b[?25l\r\u001b[K     |██                              | 10 kB 20.8 MB/s eta 0:00:01\r\u001b[K     |████                            | 20 kB 26.7 MB/s eta 0:00:01\r\u001b[K     |██████                          | 30 kB 33.5 MB/s eta 0:00:01\r\u001b[K     |████████▏                       | 40 kB 38.2 MB/s eta 0:00:01\r\u001b[K     |██████████▏                     | 51 kB 42.8 MB/s eta 0:00:01\r\u001b[K     |████████████▏                   | 61 kB 46.9 MB/s eta 0:00:01\r\u001b[K     |██████████████▎                 | 71 kB 46.0 MB/s eta 0:00:01\r\u001b[K     |████████████████▎               | 81 kB 47.6 MB/s eta 0:00:01\r\u001b[K     |██████████████████▎             | 92 kB 50.3 MB/s eta 0:00:01\r\u001b[K     |████████████████████▍           | 102 kB 32.5 MB/s eta 0:00:01\r\u001b[K     |██████████████████████▍         | 112 kB 32.5 MB/s eta 0:00:01\r\u001b[K     |████████████████████████▍       | 122 kB 32.5 MB/s eta 0:00:01\r\u001b[K     |██████████████████████████▌     | 133 kB 32.5 MB/s eta 0:00:01\r\u001b[K     |████████████████████████████▌   | 143 kB 32.5 MB/s eta 0:00:01\r\u001b[K     |██████████████████████████████▌ | 153 kB 32.5 MB/s eta 0:00:01\r\u001b[K     |████████████████████████████████| 160 kB 32.5 MB/s \n",
            "\u001b[?25hRequirement already satisfied: opencv-python in /usr/local/lib/python3.8/dist-packages (from imageai) (4.6.0.66)\n",
            "Collecting matplotlib==3.3.2\n",
            "  Downloading matplotlib-3.3.2-cp38-cp38-manylinux1_x86_64.whl (11.6 MB)\n",
            "\u001b[K     |████████████████████████████████| 11.6 MB 61.5 MB/s \n",
            "\u001b[?25hCollecting scipy==1.4.1\n",
            "  Downloading scipy-1.4.1-cp38-cp38-manylinux1_x86_64.whl (26.0 MB)\n",
            "\u001b[K     |████████████████████████████████| 26.0 MB 1.4 MB/s \n",
            "\u001b[?25hCollecting numpy==1.19.3\n",
            "  Downloading numpy-1.19.3-cp38-cp38-manylinux2010_x86_64.whl (14.9 MB)\n",
            "\u001b[K     |████████████████████████████████| 14.9 MB 84.0 MB/s \n",
            "\u001b[?25hCollecting keras==2.4.3\n",
            "  Downloading Keras-2.4.3-py2.py3-none-any.whl (36 kB)\n",
            "Collecting h5py==2.10.0\n",
            "  Downloading h5py-2.10.0-cp38-cp38-manylinux1_x86_64.whl (2.9 MB)\n",
            "\u001b[K     |████████████████████████████████| 2.9 MB 61.4 MB/s \n",
            "\u001b[?25hCollecting pillow==7.0.0\n",
            "  Downloading Pillow-7.0.0-cp38-cp38-manylinux1_x86_64.whl (2.1 MB)\n",
            "\u001b[K     |████████████████████████████████| 2.1 MB 65.9 MB/s \n",
            "\u001b[?25hCollecting keras-resnet==0.2.0\n",
            "  Downloading keras-resnet-0.2.0.tar.gz (9.3 kB)\n",
            "Requirement already satisfied: six in /usr/local/lib/python3.8/dist-packages (from h5py==2.10.0->imageai) (1.15.0)\n",
            "Requirement already satisfied: pyyaml in /usr/local/lib/python3.8/dist-packages (from keras==2.4.3->imageai) (6.0)\n",
            "Requirement already satisfied: cycler>=0.10 in /usr/local/lib/python3.8/dist-packages (from matplotlib==3.3.2->imageai) (0.11.0)\n",
            "Requirement already satisfied: pyparsing!=2.0.4,!=2.1.2,!=2.1.6,>=2.0.3 in /usr/local/lib/python3.8/dist-packages (from matplotlib==3.3.2->imageai) (3.0.9)\n",
            "Requirement already satisfied: python-dateutil>=2.1 in /usr/local/lib/python3.8/dist-packages (from matplotlib==3.3.2->imageai) (2.8.2)\n",
            "Requirement already satisfied: kiwisolver>=1.0.1 in /usr/local/lib/python3.8/dist-packages (from matplotlib==3.3.2->imageai) (1.4.4)\n",
            "Requirement already satisfied: certifi>=2020.06.20 in /usr/local/lib/python3.8/dist-packages (from matplotlib==3.3.2->imageai) (2022.9.24)\n",
            "Building wheels for collected packages: keras-resnet\n",
            "  Building wheel for keras-resnet (setup.py) ... \u001b[?25l\u001b[?25hdone\n",
            "  Created wheel for keras-resnet: filename=keras_resnet-0.2.0-py2.py3-none-any.whl size=20486 sha256=166b0cb080dc56510952812717abf38dd0315aa5e30c34588f1494a87c47aef5\n",
            "  Stored in directory: /root/.cache/pip/wheels/be/90/98/9d455f04a7ca277366b36c660c89d171ff5abb7bdd8a8b8e75\n",
            "Successfully built keras-resnet\n",
            "Installing collected packages: numpy, scipy, h5py, pillow, keras, matplotlib, keras-resnet, imageai\n",
            "  Attempting uninstall: numpy\n",
            "    Found existing installation: numpy 1.21.6\n",
            "    Uninstalling numpy-1.21.6:\n",
            "      Successfully uninstalled numpy-1.21.6\n",
            "  Attempting uninstall: scipy\n",
            "    Found existing installation: scipy 1.7.3\n",
            "    Uninstalling scipy-1.7.3:\n",
            "      Successfully uninstalled scipy-1.7.3\n",
            "  Attempting uninstall: h5py\n",
            "    Found existing installation: h5py 3.1.0\n",
            "    Uninstalling h5py-3.1.0:\n",
            "      Successfully uninstalled h5py-3.1.0\n",
            "  Attempting uninstall: pillow\n",
            "    Found existing installation: Pillow 7.1.2\n",
            "    Uninstalling Pillow-7.1.2:\n",
            "      Successfully uninstalled Pillow-7.1.2\n",
            "  Attempting uninstall: keras\n",
            "    Found existing installation: keras 2.9.0\n",
            "    Uninstalling keras-2.9.0:\n",
            "      Successfully uninstalled keras-2.9.0\n",
            "  Attempting uninstall: matplotlib\n",
            "    Found existing installation: matplotlib 3.2.2\n",
            "    Uninstalling matplotlib-3.2.2:\n",
            "      Successfully uninstalled matplotlib-3.2.2\n",
            "\u001b[31mERROR: pip's dependency resolver does not currently take into account all the packages that are installed. This behaviour is the source of the following dependency conflicts.\n",
            "xarray-einstats 0.3.0 requires scipy>=1.5, but you have scipy 1.4.1 which is incompatible.\n",
            "tensorflow 2.9.2 requires keras<2.10.0,>=2.9.0rc0, but you have keras 2.4.3 which is incompatible.\n",
            "tensorflow 2.9.2 requires numpy>=1.20, but you have numpy 1.19.3 which is incompatible.\n",
            "plotnine 0.8.0 requires scipy>=1.5.0, but you have scipy 1.4.1 which is incompatible.\n",
            "jaxlib 0.3.25+cuda11.cudnn805 requires numpy>=1.20, but you have numpy 1.19.3 which is incompatible.\n",
            "jaxlib 0.3.25+cuda11.cudnn805 requires scipy>=1.5, but you have scipy 1.4.1 which is incompatible.\n",
            "jax 0.3.25 requires numpy>=1.20, but you have numpy 1.19.3 which is incompatible.\n",
            "jax 0.3.25 requires scipy>=1.5, but you have scipy 1.4.1 which is incompatible.\n",
            "cmdstanpy 1.0.8 requires numpy>=1.21, but you have numpy 1.19.3 which is incompatible.\n",
            "bokeh 2.3.3 requires pillow>=7.1.0, but you have pillow 7.0.0 which is incompatible.\u001b[0m\n",
            "Successfully installed h5py-2.10.0 imageai-2.1.6 keras-2.4.3 keras-resnet-0.2.0 matplotlib-3.3.2 numpy-1.19.3 pillow-7.0.0 scipy-1.4.1\n"
          ]
        },
        {
          "output_type": "display_data",
          "data": {
            "application/vnd.colab-display-data+json": {
              "pip_warning": {
                "packages": [
                  "PIL",
                  "matplotlib",
                  "mpl_toolkits",
                  "numpy"
                ]
              }
            }
          },
          "metadata": {}
        }
      ]
    },
    {
      "cell_type": "code",
      "source": [
        "import imageai"
      ],
      "metadata": {
        "id": "lf9Zs4xK4HcI"
      },
      "execution_count": 3,
      "outputs": []
    },
    {
      "cell_type": "markdown",
      "source": [
        "### Markdown"
      ],
      "metadata": {
        "id": "9XkN-tQQ4mO9"
      }
    },
    {
      "cell_type": "markdown",
      "source": [
        "Examples of *markdown*  \n",
        "Examples of **markdown**  \n",
        "Examples of __markdown__  \n",
        "Examples of `markdown`  \n",
        "```\n",
        "Examples of markdown  \n",
        "```\n",
        "\n",
        ">Python\n",
        ">>Code"
      ],
      "metadata": {
        "id": "_Ku8WmJk5FrS"
      }
    },
    {
      "cell_type": "markdown",
      "source": [
        "An ordered list\n",
        "1. One\n",
        "2. Two\n",
        "3. Three\n",
        "\n",
        "An unordered list\n",
        "* one\n",
        "* two\n",
        "* three"
      ],
      "metadata": {
        "id": "5jMnx-Vi6ZJp"
      }
    },
    {
      "cell_type": "markdown",
      "source": [
        "[Google](https://www.google.com.hk/)  \n",
        "![Paris](data:image/jpeg;base64,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)"
      ],
      "metadata": {
        "id": "JHpEoA6O68sY"
      }
    },
    {
      "cell_type": "code",
      "source": [],
      "metadata": {
        "id": "-pOyDlfC4dau"
      },
      "execution_count": null,
      "outputs": []
    }
  ]
}